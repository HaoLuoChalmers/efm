{
 "cells": [
  {
   "cell_type": "code",
   "execution_count": null,
   "metadata": {
    "collapsed": true,
    "pycharm": {
     "name": "#%% import\n"
    }
   },
   "outputs": [],
   "source": [
    "import scipy.io as sio\n",
    "import numpy as np\n",
    "import matplotlib.pyplot as plt\n",
    "\n",
    "\n",
    "def str_from_array(array):\n",
    "    list = [i[0][0] for i in array]\n",
    "    return list\n"
   ]
  },
  {
   "cell_type": "code",
   "execution_count": null,
   "outputs": [],
   "source": [
    "input_EFM = 'myPremodels_simple.mat'\n"
   ],
   "metadata": {
    "collapsed": false,
    "pycharm": {
     "name": "#%%\n"
    }
   }
  },
  {
   "cell_type": "code",
   "execution_count": null,
   "outputs": [],
   "source": [
    "simple_efm = sio.loadmat(input_EFM)\n",
    "\n",
    "simple_efm = simple_efm['modeli']\n",
    "mets_c = str_from_array(simple_efm[0][0][0])\n",
    "\n",
    "mets_e = str_from_array(simple_efm[0][0][1])\n",
    "\n",
    "rxns = str_from_array(simple_efm[0][0][2])\n",
    "\n",
    "sc = simple_efm[0][0][3]\n",
    "se = simple_efm[0][0][4]\n",
    "z = simple_efm[0][0][5]\n",
    "sez = simple_efm[0][0][6]"
   ],
   "metadata": {
    "collapsed": false,
    "pycharm": {
     "name": "#%%\n"
    }
   }
  },
  {
   "cell_type": "markdown",
   "source": [
    "network matrix\n",
    "- METINT\n",
    "- METEXT"
   ],
   "metadata": {
    "collapsed": false
   }
  },
  {
   "cell_type": "code",
   "execution_count": null,
   "outputs": [],
   "source": [
    "print(sc)\n",
    "print(se)"
   ],
   "metadata": {
    "collapsed": false,
    "pycharm": {
     "name": "#%%\n"
    }
   }
  },
  {
   "cell_type": "markdown",
   "source": [
    "- EFMs\n",
    "\n",
    "- EFM of METEXT"
   ],
   "metadata": {
    "collapsed": false
   }
  },
  {
   "cell_type": "code",
   "source": [
    "print(z)\n",
    "print(sez)\n",
    "\n",
    "# save table:\n",
    "#\n",
    "#"
   ],
   "metadata": {
    "collapsed": false,
    "pycharm": {
     "name": "#%%\n"
    }
   },
   "execution_count": null,
   "outputs": []
  },
  {
   "cell_type": "code",
   "execution_count": null,
   "outputs": [],
   "source": [
    "# plot\n",
    "# x = eth/biomass; y = sub/biomass\n",
    "\n",
    "sez = sez[:,sez[6,:]>0]/sez[6,(sez[6,:]>0)]\n",
    "\n",
    "\n",
    "x_glc = np.absolute(sez[0,(sez[0,:]<0)&(sez[1,:]==0)])\n",
    "x_xyl = np.absolute(sez[1,(sez[0,:]==0)&(sez[1,:]<0)])\n",
    "x_glc_xyl = np.absolute((sez[0,(sez[1,:]<0)&(sez[0,:]<0)] + sez[1,(sez[1,:]<0)&(sez[0,:]<0)]))\n",
    "\n",
    "\n",
    "y_eth_glc = sez[2,(sez[0,:]<0)&(sez[1,:]==0)]\n",
    "y_eth_xyl = sez[2,(sez[0,:]==0)&(sez[1,:]<0)]\n",
    "y_eth_glc_xyl = sez[2,(sez[1,:]<0)&(sez[0,:]<0)]\n",
    "\n",
    "\n",
    "fig = plt.figure()\n",
    "ax1 = fig.add_subplot(131)\n",
    "ax2 = fig.add_subplot(132)\n",
    "ax3 = fig.add_subplot(133)\n",
    "\n",
    "ax1.plot(x_glc, y_eth_glc,'o',color = 'tab:blue',label = 'GLC',markersize=5,alpha = 0.7)\n",
    "ax2.plot(x_xyl,y_eth_xyl, 'o',color = 'tab:red',label = 'XYL',markersize=5,alpha = 0.7,)\n",
    "ax3.plot(x_glc_xyl,y_eth_glc_xyl, 'o',color = 'tab:orange',label = 'GLC+XYL',markersize=5,alpha = 0.7,)\n",
    "\n",
    "ax1.set_ylabel('ETHx/Biomass',fontsize = 12)\n",
    "ax1.set_xlabel('GLC/Biomass',fontsize = 12)\n",
    "ax2.set_xlabel('XYL/Biomass',fontsize = 12)\n",
    "ax3.set_xlabel('GLC+XYL/Biomass',fontsize = 12)\n",
    "fig.show()\n",
    "fig.savefig('simple.pdf')\n",
    "\n"
   ],
   "metadata": {
    "collapsed": false,
    "pycharm": {
     "name": "#%%\n"
    }
   }
  }
 ],
 "metadata": {
  "kernelspec": {
   "display_name": "Python 3",
   "language": "python",
   "name": "python3"
  },
  "language_info": {
   "codemirror_mode": {
    "name": "ipython",
    "version": 2
   },
   "file_extension": ".py",
   "mimetype": "text/x-python",
   "name": "python",
   "nbconvert_exporter": "python",
   "pygments_lexer": "ipython2",
   "version": "2.7.6"
  },
  "pycharm": {
   "stem_cell": {
    "cell_type": "raw",
    "source": [
     "#md\n",
     "###EFM results\n"
    ],
    "metadata": {
     "collapsed": false
    }
   }
  }
 },
 "nbformat": 4,
 "nbformat_minor": 0
}