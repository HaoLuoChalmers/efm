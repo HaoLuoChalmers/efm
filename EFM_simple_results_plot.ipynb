{
 "cells": [
  {
   "cell_type": "markdown",
   "source": [
    "### EFM results"
   ],
   "metadata": {
    "collapsed": false
   }
  },
  {
   "cell_type": "code",
   "execution_count": 1,
   "metadata": {
    "collapsed": true,
    "pycharm": {
     "name": "#%% import\n"
    }
   },
   "outputs": [],
   "source": [
    "import matplotlib.pyplot as plt\n",
    "import numpy as np\n",
    "import scipy.io as sio\n",
    "\n",
    "\n",
    "def str_from_array(array):\n",
    "    list = [i[0][0] for i in array]\n",
    "    return list\n"
   ]
  },
  {
   "cell_type": "code",
   "execution_count": 2,
   "outputs": [],
   "source": [
    "input_EFM = 'myPremodels_simple.mat'\n"
   ],
   "metadata": {
    "collapsed": false,
    "pycharm": {
     "name": "#%%\n"
    }
   }
  },
  {
   "cell_type": "code",
   "execution_count": 3,
   "outputs": [],
   "source": [
    "simple_efm = sio.loadmat(input_EFM)\n",
    "\n",
    "simple_efm = simple_efm['modeli']\n",
    "mets_c = str_from_array(simple_efm[0][0][0])\n",
    "\n",
    "mets_e = str_from_array(simple_efm[0][0][1])\n",
    "\n",
    "rxns = str_from_array(simple_efm[0][0][2])\n",
    "\n",
    "sc = simple_efm[0][0][3]\n",
    "se = simple_efm[0][0][4]\n",
    "z = simple_efm[0][0][5]\n",
    "sez = simple_efm[0][0][6]"
   ],
   "metadata": {
    "collapsed": false,
    "pycharm": {
     "name": "#%%\n"
    }
   }
  },
  {
   "cell_type": "markdown",
   "source": [
    "Network matrix (S_c and S_e) for\n",
    "- METINT\n",
    "- METEXT"
   ],
   "metadata": {
    "collapsed": false
   }
  },
  {
   "cell_type": "code",
   "execution_count": 4,
   "outputs": [
    {
     "name": "stdout",
     "output_type": "stream",
     "text": [
      "[[ 0.    0.    0.   ...  0.    0.    0.  ]\n",
      " [ 0.    0.    0.   ...  0.    0.    0.  ]\n",
      " [ 1.    0.    1.   ... 30.48  1.    0.  ]\n",
      " ...\n",
      " [ 0.    0.    0.   ...  0.    0.    0.  ]\n",
      " [ 0.    0.    0.   ...  0.    0.    0.  ]\n",
      " [ 0.    0.    0.   ...  0.    0.    0.  ]]\n",
      "[[-1.    0.    0.    0.    0.    0.    0.    0.    0.    0.    0.    0.\n",
      "   0.    0.    0.    0.    0.    0.    0.    0.    0.    0.    0.    0.\n",
      "   0.    0.    0.    0.    0.    0.    0.    0.    0.    0.    0.    0.\n",
      "   0.    0.    0.    0.  ]\n",
      " [ 0.    0.    0.    0.    0.    0.    0.    0.    0.    0.    0.    0.\n",
      "   0.    0.    0.    0.    0.    0.    0.    0.    0.    0.    0.    0.\n",
      "   0.    0.    0.    0.    0.    0.    0.   -1.    0.    0.    0.    0.\n",
      "   0.    0.    0.    0.  ]\n",
      " [ 0.    0.    0.    0.    0.    0.    0.    0.    0.    0.    0.    0.\n",
      "   1.    0.    0.    0.    0.    0.    0.    0.    0.    0.    0.    0.\n",
      "   0.    0.    0.    0.    0.    0.    0.    0.    0.    0.    0.    0.\n",
      "   0.    0.    0.    0.  ]\n",
      " [ 0.    0.    0.    0.    0.    1.    0.    0.    0.    0.    0.    0.\n",
      "   0.    0.    0.    0.    0.    0.    0.    0.    0.    0.    0.    0.\n",
      "   0.    0.    0.    0.    0.    0.    0.    0.    0.    0.    0.    0.\n",
      "   0.    0.    0.    0.  ]\n",
      " [ 0.    0.    0.    0.    0.    0.    0.    0.    0.    0.    0.    0.\n",
      "   0.    0.    1.    0.    0.    0.    0.    0.    0.    0.    0.    0.\n",
      "   0.    0.    0.    0.    0.    0.    0.    0.    0.    0.    0.    0.\n",
      "   0.    0.    0.    0.  ]\n",
      " [ 0.    0.    0.    0.    0.    0.    0.    0.    0.    0.    0.    0.\n",
      "   0.    0.    0.    0.    0.    0.    0.    0.    0.    0.    0.    0.\n",
      "   0.    0.    0.    0.    0.    0.    0.    0.    0.    0.    1.    0.\n",
      "   0.    0.    0.    0.  ]\n",
      " [ 0.    0.    0.    0.    0.    0.    0.    0.    0.    0.    0.    0.\n",
      "   0.    0.    0.    0.    0.    0.    0.    0.    0.    0.    0.    0.\n",
      "   0.    0.    0.    0.    0.    0.    0.    0.    0.    0.    0.    0.\n",
      "   0.    1.    0.    0.  ]\n",
      " [ 0.    0.    0.    0.    0.    0.    0.    0.    0.    0.    0.    0.\n",
      "   0.    0.    0.    0.    0.    0.    0.    0.    0.    0.    0.    0.\n",
      "   0.    0.    0.    0.    0.    0.    0.    0.    0.    0.    0.    0.\n",
      "   0.    0.    1.    0.  ]\n",
      " [ 0.    0.    0.    0.    0.    0.    0.    0.    0.    1.    0.    0.\n",
      "   0.    0.    0.    0.   -1.    1.    0.    0.    0.    0.    0.    1.\n",
      "   0.    0.    1.    1.    1.    0.    0.    0.    0.    0.    0.    0.\n",
      "   0.   -0.43  0.    0.  ]]\n"
     ]
    }
   ],
   "source": [
    "print(sc)\n",
    "print(se)"
   ],
   "metadata": {
    "collapsed": false,
    "pycharm": {
     "name": "#%%\n"
    }
   }
  },
  {
   "cell_type": "markdown",
   "source": [
    "- EFMs\n",
    "\n",
    "- EFMs of METEXT"
   ],
   "metadata": {
    "collapsed": false
   }
  },
  {
   "cell_type": "code",
   "source": [
    "print(z)\n",
    "print(sez)\n",
    "\n",
    "# save table:\n",
    "# np.savetxt('z_simple.tsv', z, delimiter='\\t')\n",
    "# np.savetxt('sez_simple.tsv', sez, delimiter='\\t')"
   ],
   "metadata": {
    "collapsed": false,
    "pycharm": {
     "name": "#%%\n"
    }
   },
   "execution_count": 5,
   "outputs": [
    {
     "name": "stdout",
     "output_type": "stream",
     "text": [
      "[[129.79787234 102.5106383    0.         ... 209.66608392 209.76573427\n",
      "  224.70454545]\n",
      " [ 27.28723404   0.         -37.9775641  ... 178.62062937 170.94755245\n",
      "  193.65909091]\n",
      " [207.64893617 180.36170213  26.83333333 ... 178.62062937 176.12937063\n",
      "  193.65909091]\n",
      " ...\n",
      " [  2.12765957   2.12765957   0.96153846 ...   9.09090909   9.09090909\n",
      "    9.09090909]\n",
      " [  0.           0.           0.         ...   0.           0.\n",
      "    0.        ]\n",
      " [  0.          27.28723404  96.23076923 ... 367.55944056 365.16783217\n",
      "  202.13636364]]\n",
      "[[-129.79787234 -102.5106383     0.         ... -209.66608392\n",
      "  -209.76573427 -224.70454545]\n",
      " [-175.29787234 -175.29787234  -62.5224359  ...    0.\n",
      "     0.            0.        ]\n",
      " [ 278.07446809  250.78723404   41.96153846 ...  176.84615385\n",
      "   187.60839161  237.        ]\n",
      " ...\n",
      " [   2.12765957    2.12765957    0.96153846 ...    9.09090909\n",
      "     9.09090909    9.09090909]\n",
      " [   0.            0.            0.         ...    0.\n",
      "     0.            0.        ]\n",
      " [ 383.20212766  355.91489362  106.16987179 ...  374.21328671\n",
      "   384.37762238  344.13636364]]\n"
     ]
    }
   ]
  },
  {
   "cell_type": "code",
   "execution_count": 6,
   "outputs": [
    {
     "name": "stdout",
     "output_type": "stream",
     "text": [
      "EFMs only glc:  30\n",
      "EFMs only xyl:  59\n",
      "EFMs only glc and xyl:  169\n"
     ]
    },
    {
     "name": "stderr",
     "output_type": "stream",
     "text": [
      "/Users/lhao/opt/anaconda3/lib/python3.7/site-packages/ipykernel_launcher.py:33: UserWarning: Matplotlib is currently using module://ipykernel.pylab.backend_inline, which is a non-GUI backend, so cannot show the figure.\n"
     ]
    },
    {
     "data": {
      "text/plain": "<Figure size 432x288 with 3 Axes>",
      "image/png": "[encoded data removed]"
     },
     "metadata": {
      "needs_background": "light"
     },
     "output_type": "display_data"
    }
   ],
   "source": [
    "# plot\n",
    "# x = eth/biomass; y = sub/biomass\n",
    "\n",
    "sez = sez[:,sez[6,:]>0]/sez[6,(sez[6,:]>0)]\n",
    "\n",
    "\n",
    "x_glc = np.absolute(sez[0,(sez[0,:]<0)&(sez[1,:]==0)])\n",
    "x_xyl = np.absolute(sez[1,(sez[0,:]==0)&(sez[1,:]<0)])\n",
    "x_glc_xyl = np.absolute((sez[0,(sez[1,:]<0)&(sez[0,:]<0)] + sez[1,(sez[1,:]<0)&(sez[0,:]<0)]))\n",
    "\n",
    "print('EFMs only glc: ',x_glc.shape[0])\n",
    "print('EFMs only xyl: ',x_xyl.shape[0])\n",
    "print('EFMs only glc and xyl: ',x_glc_xyl.shape[0])\n",
    "\n",
    "y_eth_glc = sez[2,(sez[0,:]<0)&(sez[1,:]==0)]\n",
    "y_eth_xyl = sez[2,(sez[0,:]==0)&(sez[1,:]<0)]\n",
    "y_eth_glc_xyl = sez[2,(sez[1,:]<0)&(sez[0,:]<0)]\n",
    "\n",
    "\n",
    "fig = plt.figure()\n",
    "ax1 = fig.add_subplot(131)\n",
    "ax2 = fig.add_subplot(132)\n",
    "ax3 = fig.add_subplot(133)\n",
    "\n",
    "ax1.plot(x_glc, y_eth_glc,'o',color = 'tab:blue',label = 'GLC',markersize=5,alpha = 0.7)\n",
    "ax2.plot(x_xyl,y_eth_xyl, 'o',color = 'tab:red',label = 'XYL',markersize=5,alpha = 0.7,)\n",
    "ax3.plot(x_glc_xyl,y_eth_glc_xyl, 'o',color = 'tab:orange',label = 'GLC+XYL',markersize=5,alpha = 0.7,)\n",
    "\n",
    "ax1.set_ylabel('ETHx/Biomass',fontsize = 12)\n",
    "ax1.set_xlabel('GLC/Biomass',fontsize = 12)\n",
    "ax2.set_xlabel('XYL/Biomass',fontsize = 12)\n",
    "ax3.set_xlabel('GLC+XYL/Biomass',fontsize = 12)\n",
    "fig.show()\n",
    "fig.savefig('simple.pdf')\n",
    "\n"
   ],
   "metadata": {
    "collapsed": false,
    "pycharm": {
     "name": "#%%\n"
    }
   }
  }
 ],
 "metadata": {
  "kernelspec": {
   "display_name": "Python 3",
   "language": "python",
   "name": "python3"
  },
  "language_info": {
   "codemirror_mode": {
    "name": "ipython",
    "version": 2
   },
   "file_extension": ".py",
   "mimetype": "text/x-python",
   "name": "python",
   "nbconvert_exporter": "python",
   "pygments_lexer": "ipython2",
   "version": "2.7.6"
  }
 },
 "nbformat": 4,
 "nbformat_minor": 0
}